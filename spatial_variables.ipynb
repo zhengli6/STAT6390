{
 "cells": [
  {
   "cell_type": "code",
   "execution_count": 1,
   "metadata": {},
   "outputs": [],
   "source": [
    "import geopandas as gpd\n",
    "import pandas as pd\n",
    "import numpy as np\n",
    "import matplotlib.pyplot as plt\n",
    "%matplotlib inline\n",
    "def convert2epsg(file):\n",
    "    gdf = gpd.read_file(file)\n",
    "    return gdf.to_crs({'init': 'epsg:3310','units':'m'})"
   ]
  },
  {
   "cell_type": "code",
   "execution_count": 3,
   "metadata": {},
   "outputs": [],
   "source": [
    "gdf = convert2epsg(r\"/Users/ZhengLi/Downloads/DISD_Campuses/DISD_Campuses.shp\")\n",
    "ghb = convert2epsg(r\"/Users/ZhengLi/Downloads/DISD_High/DISD_High.shp\")\n",
    "gmb = convert2epsg(r\"/Users/ZhengLi/Downloads/DISD_Middle/DISD_Middle.shp\")\n",
    "geb = convert2epsg(r\"/Users/ZhengLi/Downloads/DISD_Elementary/DISD_Elementary.shp\")\n",
    "gtd = convert2epsg(r\"/Users/ZhengLi/Downloads/DISD_Trustee_Districts/DISD_Trustee_Districts.shp\")\n",
    "rail = convert2epsg(r\"/Users/ZhengLi/SMU_OneDrive/OneDrive - Southern Methodist University/SMU/2018Fall/Bayesian Statistics/Project/data/rail_station_prj.shp\")\n",
    "df = pd.read_csv(r'/Users/ZhengLi/Downloads/Data.csv')"
   ]
  },
  {
   "cell_type": "code",
   "execution_count": 4,
   "metadata": {},
   "outputs": [],
   "source": [
    "gtb = convert2epsg(r\"/Users/ZhengLi/Downloads/DISD_Trustee_Districts/DISD_Trustee_Districts.shp\")"
   ]
  },
  {
   "cell_type": "code",
   "execution_count": 5,
   "metadata": {},
   "outputs": [],
   "source": [
    "gdf = gdf.loc[gdf.LEVEL2.apply(lambda x: True if x in ['Middle', 'Elementary','High'] else False),:]"
   ]
  },
  {
   "cell_type": "code",
   "execution_count": 6,
   "metadata": {},
   "outputs": [],
   "source": [
    "gdf = gdf.loc[:,['SCHOOLNAME','LEVEL2','FULLNAME','geometry']]"
   ]
  },
  {
   "cell_type": "code",
   "execution_count": 7,
   "metadata": {},
   "outputs": [
    {
     "data": {
      "text/html": [
       "<div>\n",
       "<style scoped>\n",
       "    .dataframe tbody tr th:only-of-type {\n",
       "        vertical-align: middle;\n",
       "    }\n",
       "\n",
       "    .dataframe tbody tr th {\n",
       "        vertical-align: top;\n",
       "    }\n",
       "\n",
       "    .dataframe thead th {\n",
       "        text-align: right;\n",
       "    }\n",
       "</style>\n",
       "<table border=\"1\" class=\"dataframe\">\n",
       "  <thead>\n",
       "    <tr style=\"text-align: right;\">\n",
       "      <th></th>\n",
       "      <th>SCHOOLNAME</th>\n",
       "      <th>LEVEL2</th>\n",
       "      <th>FULLNAME</th>\n",
       "      <th>geometry</th>\n",
       "    </tr>\n",
       "  </thead>\n",
       "  <tbody>\n",
       "    <tr>\n",
       "      <th>0</th>\n",
       "      <td>Franklin International Exploratory Academy Mid...</td>\n",
       "      <td>Middle</td>\n",
       "      <td>Benjamin Franklin International Exploratory Ac...</td>\n",
       "      <td>POINT (2153334.290724595 -304737.2756374292)</td>\n",
       "    </tr>\n",
       "    <tr>\n",
       "      <th>1</th>\n",
       "      <td>Seagoville Middle School</td>\n",
       "      <td>Middle</td>\n",
       "      <td>Seagoville Middle School</td>\n",
       "      <td>POINT (2177130.7301998 -322015.9002579185)</td>\n",
       "    </tr>\n",
       "    <tr>\n",
       "      <th>2</th>\n",
       "      <td>Kennedy-Curry Middle School</td>\n",
       "      <td>Middle</td>\n",
       "      <td>Kennedy-Curry Middle School</td>\n",
       "      <td>POINT (2161795.577757093 -328259.8936263155)</td>\n",
       "    </tr>\n",
       "    <tr>\n",
       "      <th>3</th>\n",
       "      <td>Dade Middle School</td>\n",
       "      <td>Middle</td>\n",
       "      <td>Billy Earl Dade Middle School</td>\n",
       "      <td>POINT (2157417.19718433 -316769.0317791677)</td>\n",
       "    </tr>\n",
       "    <tr>\n",
       "      <th>4</th>\n",
       "      <td>Lang Sr. Middle School</td>\n",
       "      <td>Middle</td>\n",
       "      <td>Harold W. Lang Sr. Middle School</td>\n",
       "      <td>POINT (2164476.3871318 -311512.6705161431)</td>\n",
       "    </tr>\n",
       "  </tbody>\n",
       "</table>\n",
       "</div>"
      ],
      "text/plain": [
       "                                          SCHOOLNAME  LEVEL2  \\\n",
       "0  Franklin International Exploratory Academy Mid...  Middle   \n",
       "1                           Seagoville Middle School  Middle   \n",
       "2                        Kennedy-Curry Middle School  Middle   \n",
       "3                                 Dade Middle School  Middle   \n",
       "4                             Lang Sr. Middle School  Middle   \n",
       "\n",
       "                                            FULLNAME  \\\n",
       "0  Benjamin Franklin International Exploratory Ac...   \n",
       "1                           Seagoville Middle School   \n",
       "2                        Kennedy-Curry Middle School   \n",
       "3                      Billy Earl Dade Middle School   \n",
       "4                   Harold W. Lang Sr. Middle School   \n",
       "\n",
       "                                       geometry  \n",
       "0  POINT (2153334.290724595 -304737.2756374292)  \n",
       "1    POINT (2177130.7301998 -322015.9002579185)  \n",
       "2  POINT (2161795.577757093 -328259.8936263155)  \n",
       "3   POINT (2157417.19718433 -316769.0317791677)  \n",
       "4    POINT (2164476.3871318 -311512.6705161431)  "
      ]
     },
     "execution_count": 7,
     "metadata": {},
     "output_type": "execute_result"
    }
   ],
   "source": [
    "gdf.head()"
   ]
  },
  {
   "cell_type": "code",
   "execution_count": 8,
   "metadata": {},
   "outputs": [
    {
     "data": {
      "text/plain": [
       "<matplotlib.axes._subplots.AxesSubplot at 0x11ae85a90>"
      ]
     },
     "execution_count": 8,
     "metadata": {},
     "output_type": "execute_result"
    },
    {
     "data": {
      "image/png": "[encoded data removed]",
      "text/plain": [
       "<Figure size 432x288 with 1 Axes>"
      ]
     },
     "metadata": {
      "needs_background": "light"
     },
     "output_type": "display_data"
    }
   ],
   "source": [
    "ghb.plot()"
   ]
  },
  {
   "cell_type": "code",
   "execution_count": null,
   "metadata": {},
   "outputs": [],
   "source": []
  },
  {
   "cell_type": "code",
   "execution_count": 9,
   "metadata": {},
   "outputs": [
    {
     "data": {
      "text/plain": [
       "<matplotlib.axes._subplots.AxesSubplot at 0x11aeae860>"
      ]
     },
     "execution_count": 9,
     "metadata": {},
     "output_type": "execute_result"
    },
    {
     "data": {
      "image/png": "[encoded data removed]",
      "text/plain": [
       "<Figure size 432x288 with 1 Axes>"
      ]
     },
     "metadata": {
      "needs_background": "light"
     },
     "output_type": "display_data"
    }
   ],
   "source": [
    "gmb.plot()"
   ]
  },
  {
   "cell_type": "code",
   "execution_count": 10,
   "metadata": {},
   "outputs": [],
   "source": [
    "def AverageDistance2(obj, AllSchools):\n",
    "    idx = gtb['geometry'].contains(obj['geometry'])\n",
    "    district = gtb.loc[np.where(idx==True)[0][0],'geometry']\n",
    "    schools = Allschools.loc[AllSchools['geometry'].within(district),:]\n",
    "    dists = schools.loc[:,'geometry'].distance(obj['geometry'])\n",
    "    if len(schools)==1:\n",
    "        return 0\n",
    "    else:\n",
    "        return dists.sum()/(schools.shape[0]-1)"
   ]
  },
  {
   "cell_type": "code",
   "execution_count": 485,
   "metadata": {},
   "outputs": [],
   "source": [
    "def AverageDistance(obj, AllSchools):\n",
    "    if obj['LEVEL2']=='High':\n",
    "        idx = ghb['geometry'].contains(obj['geometry'])\n",
    "        district = ghb.loc[np.where(idx==True)[0][0],'geometry']\n",
    "        schools = Allschools.loc[AllSchools['geometry'].within(district),:]\n",
    "        dists = schools.loc[:,'geometry'].distance(obj['geometry'])\n",
    "    elif obj['LEVEL2'] =='Middle':\n",
    "        idx = gmb['geometry'].contains(obj['geometry'])\n",
    "        district = gmb.loc[6,'geometry']\n",
    "        schools = Allschools.loc[AllSchools['geometry'].within(district),:]\n",
    "        dists = schools.loc[:,'geometry'].distance(obj['geometry'])\n",
    "    elif obj['LEVEL2'] =='Elementary':\n",
    "        idx = geb['geometry'].contains(obj['geometry'])\n",
    "        district = geb.loc[np.where(idx==True)[0][0],'geometry']\n",
    "        schools = Allschools.loc[AllSchools['geometry'].within(district),:]\n",
    "        dists = schools.loc[:,'geometry'].distance(obj['geometry'])\n",
    "        \n",
    "    if len(schools)==1:\n",
    "        return 0\n",
    "    else:\n",
    "        return dists.sum()/(schools.shape[0]-1)"
   ]
  },
  {
   "cell_type": "code",
   "execution_count": 11,
   "metadata": {},
   "outputs": [],
   "source": [
    "Allschools = gdf.copy()\n",
    "gdf['AverageDistance'] = gdf.loc[:,['LEVEL2','FULLNAME','geometry']].apply(lambda x: AverageDistance2(x, Allschools),axis=1)"
   ]
  },
  {
   "cell_type": "code",
   "execution_count": 12,
   "metadata": {
    "scrolled": false
   },
   "outputs": [
    {
     "data": {
      "text/html": [
       "<div>\n",
       "<style scoped>\n",
       "    .dataframe tbody tr th:only-of-type {\n",
       "        vertical-align: middle;\n",
       "    }\n",
       "\n",
       "    .dataframe tbody tr th {\n",
       "        vertical-align: top;\n",
       "    }\n",
       "\n",
       "    .dataframe thead th {\n",
       "        text-align: right;\n",
       "    }\n",
       "</style>\n",
       "<table border=\"1\" class=\"dataframe\">\n",
       "  <thead>\n",
       "    <tr style=\"text-align: right;\">\n",
       "      <th></th>\n",
       "      <th>SCHOOLNAME</th>\n",
       "      <th>FULLNAME</th>\n",
       "      <th>geometry</th>\n",
       "      <th>AverageDistance</th>\n",
       "    </tr>\n",
       "    <tr>\n",
       "      <th>LEVEL2</th>\n",
       "      <th></th>\n",
       "      <th></th>\n",
       "      <th></th>\n",
       "      <th></th>\n",
       "    </tr>\n",
       "  </thead>\n",
       "  <tbody>\n",
       "    <tr>\n",
       "      <th>Elementary</th>\n",
       "      <td>141</td>\n",
       "      <td>141</td>\n",
       "      <td>141</td>\n",
       "      <td>141</td>\n",
       "    </tr>\n",
       "    <tr>\n",
       "      <th>High</th>\n",
       "      <td>22</td>\n",
       "      <td>22</td>\n",
       "      <td>22</td>\n",
       "      <td>22</td>\n",
       "    </tr>\n",
       "    <tr>\n",
       "      <th>Middle</th>\n",
       "      <td>31</td>\n",
       "      <td>31</td>\n",
       "      <td>31</td>\n",
       "      <td>31</td>\n",
       "    </tr>\n",
       "  </tbody>\n",
       "</table>\n",
       "</div>"
      ],
      "text/plain": [
       "            SCHOOLNAME  FULLNAME  geometry  AverageDistance\n",
       "LEVEL2                                                     \n",
       "Elementary         141       141       141              141\n",
       "High                22        22        22               22\n",
       "Middle              31        31        31               31"
      ]
     },
     "execution_count": 12,
     "metadata": {},
     "output_type": "execute_result"
    }
   ],
   "source": [
    "gdf.groupby(by='LEVEL2').count()"
   ]
  },
  {
   "cell_type": "code",
   "execution_count": 14,
   "metadata": {
    "scrolled": false
   },
   "outputs": [
    {
     "data": {
      "text/html": [
       "<div>\n",
       "<style scoped>\n",
       "    .dataframe tbody tr th:only-of-type {\n",
       "        vertical-align: middle;\n",
       "    }\n",
       "\n",
       "    .dataframe tbody tr th {\n",
       "        vertical-align: top;\n",
       "    }\n",
       "\n",
       "    .dataframe thead th {\n",
       "        text-align: right;\n",
       "    }\n",
       "</style>\n",
       "<table border=\"1\" class=\"dataframe\">\n",
       "  <thead>\n",
       "    <tr style=\"text-align: right;\">\n",
       "      <th></th>\n",
       "      <th>AverageDistance</th>\n",
       "    </tr>\n",
       "  </thead>\n",
       "  <tbody>\n",
       "    <tr>\n",
       "      <th>count</th>\n",
       "      <td>194.000000</td>\n",
       "    </tr>\n",
       "    <tr>\n",
       "      <th>mean</th>\n",
       "      <td>5393.595266</td>\n",
       "    </tr>\n",
       "    <tr>\n",
       "      <th>std</th>\n",
       "      <td>1783.394532</td>\n",
       "    </tr>\n",
       "    <tr>\n",
       "      <th>min</th>\n",
       "      <td>2870.754953</td>\n",
       "    </tr>\n",
       "    <tr>\n",
       "      <th>25%</th>\n",
       "      <td>4269.046236</td>\n",
       "    </tr>\n",
       "    <tr>\n",
       "      <th>50%</th>\n",
       "      <td>4915.754636</td>\n",
       "    </tr>\n",
       "    <tr>\n",
       "      <th>75%</th>\n",
       "      <td>6167.052072</td>\n",
       "    </tr>\n",
       "    <tr>\n",
       "      <th>max</th>\n",
       "      <td>12272.608780</td>\n",
       "    </tr>\n",
       "  </tbody>\n",
       "</table>\n",
       "</div>"
      ],
      "text/plain": [
       "       AverageDistance\n",
       "count       194.000000\n",
       "mean       5393.595266\n",
       "std        1783.394532\n",
       "min        2870.754953\n",
       "25%        4269.046236\n",
       "50%        4915.754636\n",
       "75%        6167.052072\n",
       "max       12272.608780"
      ]
     },
     "execution_count": 14,
     "metadata": {},
     "output_type": "execute_result"
    }
   ],
   "source": [
    "gdf.describe()"
   ]
  },
  {
   "cell_type": "code",
   "execution_count": 489,
   "metadata": {},
   "outputs": [
    {
     "data": {
      "text/plain": [
       "<matplotlib.axes._subplots.AxesSubplot at 0x12659f5f8>"
      ]
     },
     "execution_count": 489,
     "metadata": {},
     "output_type": "execute_result"
    },
    {
     "data": {
      "image/png": "[encoded data removed]",
      "text/plain": [
       "<Figure size 432x288 with 1 Axes>"
      ]
     },
     "metadata": {
      "needs_background": "light"
     },
     "output_type": "display_data"
    }
   ],
   "source": [
    "ghb.plot()"
   ]
  },
  {
   "cell_type": "code",
   "execution_count": 490,
   "metadata": {},
   "outputs": [
    {
     "data": {
      "text/plain": [
       "<matplotlib.axes._subplots.AxesSubplot at 0x1260f1dd8>"
      ]
     },
     "execution_count": 490,
     "metadata": {},
     "output_type": "execute_result"
    },
    {
     "data": {
      "image/png": "[encoded data removed]",
      "text/plain": [
       "<Figure size 432x288 with 1 Axes>"
      ]
     },
     "metadata": {
      "needs_background": "light"
     },
     "output_type": "display_data"
    }
   ],
   "source": [
    "geb.plot()"
   ]
  },
  {
   "cell_type": "code",
   "execution_count": 491,
   "metadata": {},
   "outputs": [
    {
     "data": {
      "text/plain": [
       "<matplotlib.axes._subplots.AxesSubplot at 0x12625b198>"
      ]
     },
     "execution_count": 491,
     "metadata": {},
     "output_type": "execute_result"
    },
    {
     "data": {
      "image/png": "[encoded data removed]",
      "text/plain": [
       "<Figure size 432x288 with 1 Axes>"
      ]
     },
     "metadata": {
      "needs_background": "light"
     },
     "output_type": "display_data"
    }
   ],
   "source": [
    "fig,ax = plt.subplots(1,1)\n",
    "geb.plot(ax=ax,alpha=0.5)\n",
    "gdf.loc[17:18,'geometry'].plot(ax=ax)"
   ]
  },
  {
   "cell_type": "code",
   "execution_count": 492,
   "metadata": {},
   "outputs": [
    {
     "data": {
      "text/html": [
       "<div>\n",
       "<style scoped>\n",
       "    .dataframe tbody tr th:only-of-type {\n",
       "        vertical-align: middle;\n",
       "    }\n",
       "\n",
       "    .dataframe tbody tr th {\n",
       "        vertical-align: top;\n",
       "    }\n",
       "\n",
       "    .dataframe thead th {\n",
       "        text-align: right;\n",
       "    }\n",
       "</style>\n",
       "<table border=\"1\" class=\"dataframe\">\n",
       "  <thead>\n",
       "    <tr style=\"text-align: right;\">\n",
       "      <th></th>\n",
       "      <th>SchoolName</th>\n",
       "      <th>School\n",
       "Type</th>\n",
       "      <th>Address</th>\n",
       "      <th>City</th>\n",
       "      <th>Zip</th>\n",
       "      <th>Trustee\n",
       "District</th>\n",
       "      <th>Choice/Magnet\n",
       "School</th>\n",
       "      <th>Grade\n",
       "Span</th>\n",
       "      <th>#Students</th>\n",
       "      <th>Diversity</th>\n",
       "      <th>...</th>\n",
       "      <th>SLN</th>\n",
       "      <th>NAME_OFFICIAL</th>\n",
       "      <th>SCHOOL_TYPE</th>\n",
       "      <th>SCHOOL_STREET_NO</th>\n",
       "      <th>SCHOOL_STREET_DI</th>\n",
       "      <th>SCHOOL_STREET_NM</th>\n",
       "      <th>SCHOOL_STREET_TP</th>\n",
       "      <th>SCHOOL_CITY</th>\n",
       "      <th>SCHOOL_ZIP</th>\n",
       "      <th>2016-17SEI</th>\n",
       "    </tr>\n",
       "  </thead>\n",
       "  <tbody>\n",
       "    <tr>\n",
       "      <th>0</th>\n",
       "      <td>BRYAN ADAMS HIGH SCHOOL</td>\n",
       "      <td>HS</td>\n",
       "      <td>2101  MILLMAR DR</td>\n",
       "      <td>DALLAS</td>\n",
       "      <td>75228</td>\n",
       "      <td>3</td>\n",
       "      <td>Y</td>\n",
       "      <td>12-Sep</td>\n",
       "      <td>2158</td>\n",
       "      <td>0.25095</td>\n",
       "      <td>...</td>\n",
       "      <td>1</td>\n",
       "      <td>BRYAN ADAMS HIGH SCHOOL</td>\n",
       "      <td>1</td>\n",
       "      <td>2101</td>\n",
       "      <td>NaN</td>\n",
       "      <td>MILLMAR</td>\n",
       "      <td>DR</td>\n",
       "      <td>DALLAS</td>\n",
       "      <td>75228</td>\n",
       "      <td>46.4</td>\n",
       "    </tr>\n",
       "    <tr>\n",
       "      <th>1</th>\n",
       "      <td>JOHN Q. ADAMS ELEMENTARY SCHOOL</td>\n",
       "      <td>ES</td>\n",
       "      <td>8239  LAKE JUNE RD</td>\n",
       "      <td>DALLAS</td>\n",
       "      <td>75217</td>\n",
       "      <td>4</td>\n",
       "      <td>N</td>\n",
       "      <td>K-5</td>\n",
       "      <td>722</td>\n",
       "      <td>0.24790</td>\n",
       "      <td>...</td>\n",
       "      <td>101</td>\n",
       "      <td>JOHN Q. ADAMS ELEMENTARY SCHOOL</td>\n",
       "      <td>3</td>\n",
       "      <td>8239</td>\n",
       "      <td>NaN</td>\n",
       "      <td>LAKE JUNE</td>\n",
       "      <td>RD</td>\n",
       "      <td>DALLAS</td>\n",
       "      <td>75217</td>\n",
       "      <td>45.9</td>\n",
       "    </tr>\n",
       "    <tr>\n",
       "      <th>2</th>\n",
       "      <td>NATHAN ADAMS ELEMENTARY SCHOOL</td>\n",
       "      <td>ES</td>\n",
       "      <td>12600  WELCH RD</td>\n",
       "      <td>DALLAS</td>\n",
       "      <td>75244</td>\n",
       "      <td>1</td>\n",
       "      <td>N</td>\n",
       "      <td>K-5</td>\n",
       "      <td>476</td>\n",
       "      <td>0.24635</td>\n",
       "      <td>...</td>\n",
       "      <td>233</td>\n",
       "      <td>NATHAN ADAMS ELEMENTARY SCHOOL</td>\n",
       "      <td>3</td>\n",
       "      <td>12600</td>\n",
       "      <td>NaN</td>\n",
       "      <td>WELCH</td>\n",
       "      <td>RD</td>\n",
       "      <td>DALLAS</td>\n",
       "      <td>75244</td>\n",
       "      <td>50.8</td>\n",
       "    </tr>\n",
       "    <tr>\n",
       "      <th>3</th>\n",
       "      <td>W.H. ADAMSON HIGH SCHOOL</td>\n",
       "      <td>HS</td>\n",
       "      <td>309 E NINTH ST</td>\n",
       "      <td>DALLAS</td>\n",
       "      <td>75203</td>\n",
       "      <td>7</td>\n",
       "      <td>Y</td>\n",
       "      <td>12-Sep</td>\n",
       "      <td>1621</td>\n",
       "      <td>0.24860</td>\n",
       "      <td>...</td>\n",
       "      <td>2</td>\n",
       "      <td>W.H. ADAMSON HIGH SCHOOL</td>\n",
       "      <td>1</td>\n",
       "      <td>201</td>\n",
       "      <td>E</td>\n",
       "      <td>NINTH</td>\n",
       "      <td>ST</td>\n",
       "      <td>DALLAS</td>\n",
       "      <td>75203</td>\n",
       "      <td>47.7</td>\n",
       "    </tr>\n",
       "    <tr>\n",
       "      <th>4</th>\n",
       "      <td>BIRDIE ALEXANDER ELEMENTARY SCHOOL</td>\n",
       "      <td>ES</td>\n",
       "      <td>1830  GOLDWOOD DR</td>\n",
       "      <td>DALLAS</td>\n",
       "      <td>75232</td>\n",
       "      <td>6</td>\n",
       "      <td>N</td>\n",
       "      <td>K-5</td>\n",
       "      <td>349</td>\n",
       "      <td>0.19720</td>\n",
       "      <td>...</td>\n",
       "      <td>235</td>\n",
       "      <td>BIRDIE ALEXANDER ELEMENTARY SCHOOL</td>\n",
       "      <td>3</td>\n",
       "      <td>1830</td>\n",
       "      <td>NaN</td>\n",
       "      <td>GOLDWOOD</td>\n",
       "      <td>DR</td>\n",
       "      <td>DALLAS</td>\n",
       "      <td>75232</td>\n",
       "      <td>46.4</td>\n",
       "    </tr>\n",
       "  </tbody>\n",
       "</table>\n",
       "<p>5 rows × 43 columns</p>\n",
       "</div>"
      ],
      "text/plain": [
       "                           SchoolName School\\nType             Address  \\\n",
       "0             BRYAN ADAMS HIGH SCHOOL           HS    2101  MILLMAR DR   \n",
       "1     JOHN Q. ADAMS ELEMENTARY SCHOOL           ES  8239  LAKE JUNE RD   \n",
       "2      NATHAN ADAMS ELEMENTARY SCHOOL           ES     12600  WELCH RD   \n",
       "3            W.H. ADAMSON HIGH SCHOOL           HS      309 E NINTH ST   \n",
       "4  BIRDIE ALEXANDER ELEMENTARY SCHOOL           ES   1830  GOLDWOOD DR   \n",
       "\n",
       "     City    Zip  Trustee\\nDistrict Choice/Magnet\\nSchool Grade\\nSpan  \\\n",
       "0  DALLAS  75228                  3                     Y      12-Sep   \n",
       "1  DALLAS  75217                  4                     N         K-5   \n",
       "2  DALLAS  75244                  1                     N         K-5   \n",
       "3  DALLAS  75203                  7                     Y      12-Sep   \n",
       "4  DALLAS  75232                  6                     N         K-5   \n",
       "\n",
       "   #Students  Diversity     ...      SLN                       NAME_OFFICIAL  \\\n",
       "0       2158    0.25095     ...        1             BRYAN ADAMS HIGH SCHOOL   \n",
       "1        722    0.24790     ...      101     JOHN Q. ADAMS ELEMENTARY SCHOOL   \n",
       "2        476    0.24635     ...      233      NATHAN ADAMS ELEMENTARY SCHOOL   \n",
       "3       1621    0.24860     ...        2            W.H. ADAMSON HIGH SCHOOL   \n",
       "4        349    0.19720     ...      235  BIRDIE ALEXANDER ELEMENTARY SCHOOL   \n",
       "\n",
       "   SCHOOL_TYPE  SCHOOL_STREET_NO  SCHOOL_STREET_DI  SCHOOL_STREET_NM  \\\n",
       "0            1              2101               NaN           MILLMAR   \n",
       "1            3              8239               NaN         LAKE JUNE   \n",
       "2            3             12600               NaN             WELCH   \n",
       "3            1               201                 E             NINTH   \n",
       "4            3              1830               NaN          GOLDWOOD   \n",
       "\n",
       "   SCHOOL_STREET_TP  SCHOOL_CITY  SCHOOL_ZIP  2016-17SEI  \n",
       "0                DR       DALLAS       75228        46.4  \n",
       "1                RD       DALLAS       75217        45.9  \n",
       "2                RD       DALLAS       75244        50.8  \n",
       "3                ST       DALLAS       75203        47.7  \n",
       "4                DR       DALLAS       75232        46.4  \n",
       "\n",
       "[5 rows x 43 columns]"
      ]
     },
     "execution_count": 492,
     "metadata": {},
     "output_type": "execute_result"
    }
   ],
   "source": [
    "\n",
    "df.head()"
   ]
  },
  {
   "cell_type": "code",
   "execution_count": 493,
   "metadata": {},
   "outputs": [
    {
     "data": {
      "text/html": [
       "<div>\n",
       "<style scoped>\n",
       "    .dataframe tbody tr th:only-of-type {\n",
       "        vertical-align: middle;\n",
       "    }\n",
       "\n",
       "    .dataframe tbody tr th {\n",
       "        vertical-align: top;\n",
       "    }\n",
       "\n",
       "    .dataframe thead th {\n",
       "        text-align: right;\n",
       "    }\n",
       "</style>\n",
       "<table border=\"1\" class=\"dataframe\">\n",
       "  <thead>\n",
       "    <tr style=\"text-align: right;\">\n",
       "      <th></th>\n",
       "      <th>SCHOOLNAME</th>\n",
       "      <th>AverageDistance</th>\n",
       "    </tr>\n",
       "  </thead>\n",
       "  <tbody>\n",
       "    <tr>\n",
       "      <th>0</th>\n",
       "      <td>Franklin International Exploratory Academy Mid...</td>\n",
       "      <td>3008.970977</td>\n",
       "    </tr>\n",
       "    <tr>\n",
       "      <th>1</th>\n",
       "      <td>Seagoville Middle School</td>\n",
       "      <td>35260.820799</td>\n",
       "    </tr>\n",
       "    <tr>\n",
       "      <th>2</th>\n",
       "      <td>Kennedy-Curry Middle School</td>\n",
       "      <td>30024.834880</td>\n",
       "    </tr>\n",
       "    <tr>\n",
       "      <th>3</th>\n",
       "      <td>Dade Middle School</td>\n",
       "      <td>15749.905491</td>\n",
       "    </tr>\n",
       "    <tr>\n",
       "      <th>4</th>\n",
       "      <td>Lang Sr. Middle School</td>\n",
       "      <td>16195.509599</td>\n",
       "    </tr>\n",
       "  </tbody>\n",
       "</table>\n",
       "</div>"
      ],
      "text/plain": [
       "                                          SCHOOLNAME  AverageDistance\n",
       "0  Franklin International Exploratory Academy Mid...      3008.970977\n",
       "1                           Seagoville Middle School     35260.820799\n",
       "2                        Kennedy-Curry Middle School     30024.834880\n",
       "3                                 Dade Middle School     15749.905491\n",
       "4                             Lang Sr. Middle School     16195.509599"
      ]
     },
     "execution_count": 493,
     "metadata": {},
     "output_type": "execute_result"
    }
   ],
   "source": [
    "gdf.loc[:,['SCHOOLNAME','AverageDistance']].head()"
   ]
  },
  {
   "cell_type": "code",
   "execution_count": 494,
   "metadata": {},
   "outputs": [
    {
     "data": {
      "text/plain": [
       "(194, 5)"
      ]
     },
     "execution_count": 494,
     "metadata": {},
     "output_type": "execute_result"
    }
   ],
   "source": [
    "gdf.shape"
   ]
  },
  {
   "cell_type": "code",
   "execution_count": 15,
   "metadata": {},
   "outputs": [],
   "source": [
    "df['name']= df['SchoolName'].apply(lambda x: x.lower())"
   ]
  },
  {
   "cell_type": "code",
   "execution_count": 16,
   "metadata": {},
   "outputs": [],
   "source": [
    "gdf['name']= gdf['FULLNAME'].apply(lambda x: x.lower())"
   ]
  },
  {
   "cell_type": "code",
   "execution_count": 17,
   "metadata": {},
   "outputs": [
    {
     "data": {
      "text/html": [
       "<div>\n",
       "<style scoped>\n",
       "    .dataframe tbody tr th:only-of-type {\n",
       "        vertical-align: middle;\n",
       "    }\n",
       "\n",
       "    .dataframe tbody tr th {\n",
       "        vertical-align: top;\n",
       "    }\n",
       "\n",
       "    .dataframe thead th {\n",
       "        text-align: right;\n",
       "    }\n",
       "</style>\n",
       "<table border=\"1\" class=\"dataframe\">\n",
       "  <thead>\n",
       "    <tr style=\"text-align: right;\">\n",
       "      <th></th>\n",
       "      <th>SCHOOLNAME</th>\n",
       "      <th>LEVEL2</th>\n",
       "      <th>FULLNAME</th>\n",
       "      <th>geometry</th>\n",
       "      <th>AverageDistance</th>\n",
       "      <th>name</th>\n",
       "    </tr>\n",
       "  </thead>\n",
       "  <tbody>\n",
       "    <tr>\n",
       "      <th>0</th>\n",
       "      <td>Franklin International Exploratory Academy Mid...</td>\n",
       "      <td>Middle</td>\n",
       "      <td>Benjamin Franklin International Exploratory Ac...</td>\n",
       "      <td>POINT (2153334.290724595 -304737.2756374292)</td>\n",
       "      <td>6415.899722</td>\n",
       "      <td>benjamin franklin international exploratory ac...</td>\n",
       "    </tr>\n",
       "    <tr>\n",
       "      <th>1</th>\n",
       "      <td>Seagoville Middle School</td>\n",
       "      <td>Middle</td>\n",
       "      <td>Seagoville Middle School</td>\n",
       "      <td>POINT (2177130.7301998 -322015.9002579185)</td>\n",
       "      <td>7380.017507</td>\n",
       "      <td>seagoville middle school</td>\n",
       "    </tr>\n",
       "    <tr>\n",
       "      <th>2</th>\n",
       "      <td>Kennedy-Curry Middle School</td>\n",
       "      <td>Middle</td>\n",
       "      <td>Kennedy-Curry Middle School</td>\n",
       "      <td>POINT (2161795.577757093 -328259.8936263155)</td>\n",
       "      <td>7492.457374</td>\n",
       "      <td>kennedy-curry middle school</td>\n",
       "    </tr>\n",
       "    <tr>\n",
       "      <th>3</th>\n",
       "      <td>Dade Middle School</td>\n",
       "      <td>Middle</td>\n",
       "      <td>Billy Earl Dade Middle School</td>\n",
       "      <td>POINT (2157417.19718433 -316769.0317791677)</td>\n",
       "      <td>6584.205386</td>\n",
       "      <td>billy earl dade middle school</td>\n",
       "    </tr>\n",
       "    <tr>\n",
       "      <th>4</th>\n",
       "      <td>Lang Sr. Middle School</td>\n",
       "      <td>Middle</td>\n",
       "      <td>Harold W. Lang Sr. Middle School</td>\n",
       "      <td>POINT (2164476.3871318 -311512.6705161431)</td>\n",
       "      <td>6604.952406</td>\n",
       "      <td>harold w. lang sr. middle school</td>\n",
       "    </tr>\n",
       "    <tr>\n",
       "      <th>5</th>\n",
       "      <td>Richards STEAM Academy Middle School</td>\n",
       "      <td>Middle</td>\n",
       "      <td>Ann Richards STEAM Academy Middle School</td>\n",
       "      <td>POINT (2167197.763814454 -314453.8509375164)</td>\n",
       "      <td>5795.551851</td>\n",
       "      <td>ann richards steam academy middle school</td>\n",
       "    </tr>\n",
       "    <tr>\n",
       "      <th>6</th>\n",
       "      <td>Long Middle School</td>\n",
       "      <td>Middle</td>\n",
       "      <td>J.L. Long Middle School</td>\n",
       "      <td>POINT (2158560.461616143 -312403.7835348495)</td>\n",
       "      <td>4847.751981</td>\n",
       "      <td>j.l. long middle school</td>\n",
       "    </tr>\n",
       "    <tr>\n",
       "      <th>7</th>\n",
       "      <td>Rusk Middle School</td>\n",
       "      <td>Middle</td>\n",
       "      <td>Thomas J. Rusk Middle School</td>\n",
       "      <td>POINT (2150335.665893057 -312200.8444523215)</td>\n",
       "      <td>5986.980242</td>\n",
       "      <td>thomas j. rusk middle school</td>\n",
       "    </tr>\n",
       "    <tr>\n",
       "      <th>8</th>\n",
       "      <td>Medrano Middle School</td>\n",
       "      <td>Middle</td>\n",
       "      <td>Francisco Medrano Middle School</td>\n",
       "      <td>POINT (2145334.891930921 -308213.6440331889)</td>\n",
       "      <td>7130.899699</td>\n",
       "      <td>francisco medrano middle school</td>\n",
       "    </tr>\n",
       "    <tr>\n",
       "      <th>9</th>\n",
       "      <td>Garcia Middle School</td>\n",
       "      <td>Middle</td>\n",
       "      <td>Hector Garcia Middle School</td>\n",
       "      <td>POINT (2154305.880830271 -319984.0086333971)</td>\n",
       "      <td>4811.839342</td>\n",
       "      <td>hector garcia middle school</td>\n",
       "    </tr>\n",
       "    <tr>\n",
       "      <th>10</th>\n",
       "      <td>Quintanilla Sr. Middle School</td>\n",
       "      <td>Middle</td>\n",
       "      <td>Raul Quintanilla Sr. Middle School</td>\n",
       "      <td>POINT (2149266.623015875 -319857.4565992085)</td>\n",
       "      <td>3634.783775</td>\n",
       "      <td>raul quintanilla sr. middle school</td>\n",
       "    </tr>\n",
       "    <tr>\n",
       "      <th>11</th>\n",
       "      <td>Stockard Middle School</td>\n",
       "      <td>Middle</td>\n",
       "      <td>L.V. Stockard Middle School</td>\n",
       "      <td>POINT (2150165.037446018 -324104.0331634115)</td>\n",
       "      <td>3640.534119</td>\n",
       "      <td>l.v. stockard middle school</td>\n",
       "    </tr>\n",
       "    <tr>\n",
       "      <th>12</th>\n",
       "      <td>Gaston Middle School</td>\n",
       "      <td>Middle</td>\n",
       "      <td>W.H. Gaston Middle School</td>\n",
       "      <td>POINT (2163193.407390153 -309207.6047273562)</td>\n",
       "      <td>4097.625962</td>\n",
       "      <td>w.h. gaston middle school</td>\n",
       "    </tr>\n",
       "    <tr>\n",
       "      <th>13</th>\n",
       "      <td>Hill Middle School</td>\n",
       "      <td>Middle</td>\n",
       "      <td>Robert T. Hill Middle School</td>\n",
       "      <td>POINT (2161452.071967333 -306141.2947025611)</td>\n",
       "      <td>4130.970870</td>\n",
       "      <td>robert t. hill middle school</td>\n",
       "    </tr>\n",
       "    <tr>\n",
       "      <th>14</th>\n",
       "      <td>Zumwalt Middle School</td>\n",
       "      <td>Middle</td>\n",
       "      <td>Sarah Zumwalt Middle School</td>\n",
       "      <td>POINT (2158730.958916361 -325561.4551234897)</td>\n",
       "      <td>4781.445287</td>\n",
       "      <td>sarah zumwalt middle school</td>\n",
       "    </tr>\n",
       "    <tr>\n",
       "      <th>15</th>\n",
       "      <td>Browne Middle School</td>\n",
       "      <td>Middle</td>\n",
       "      <td>T.W. Browne Middle School</td>\n",
       "      <td>POINT (2150042.108938274 -327099.6866997825)</td>\n",
       "      <td>4139.456499</td>\n",
       "      <td>t.w. browne middle school</td>\n",
       "    </tr>\n",
       "    <tr>\n",
       "      <th>16</th>\n",
       "      <td>Holmes Jr. Middle School</td>\n",
       "      <td>Middle</td>\n",
       "      <td>Zan Wesley Holmes Jr. Middle School</td>\n",
       "      <td>POINT (2150375.002845836 -325404.2375355111)</td>\n",
       "      <td>4358.783154</td>\n",
       "      <td>zan wesley holmes jr. middle school</td>\n",
       "    </tr>\n",
       "    <tr>\n",
       "      <th>17</th>\n",
       "      <td>Highland Meadows Elementary School</td>\n",
       "      <td>Elementary</td>\n",
       "      <td>Highland Meadows Elementary School</td>\n",
       "      <td>POINT (2162524.706850385 -304143.1784285004)</td>\n",
       "      <td>5221.366472</td>\n",
       "      <td>highland meadows elementary school</td>\n",
       "    </tr>\n",
       "    <tr>\n",
       "      <th>18</th>\n",
       "      <td>Frank Elementary School</td>\n",
       "      <td>Elementary</td>\n",
       "      <td>Anne Frank Elementary School</td>\n",
       "      <td>POINT (2148633.108016734 -298807.4014054369)</td>\n",
       "      <td>5645.394937</td>\n",
       "      <td>anne frank elementary school</td>\n",
       "    </tr>\n",
       "    <tr>\n",
       "      <th>19</th>\n",
       "      <td>Kramer Elementary School</td>\n",
       "      <td>Elementary</td>\n",
       "      <td>Arthur Kramer Elementary School</td>\n",
       "      <td>POINT (2153001.759263095 -302916.1204562159)</td>\n",
       "      <td>6420.773726</td>\n",
       "      <td>arthur kramer elementary school</td>\n",
       "    </tr>\n",
       "    <tr>\n",
       "      <th>20</th>\n",
       "      <td>Kleberg Elementary School</td>\n",
       "      <td>Elementary</td>\n",
       "      <td>Kleberg Elementary School</td>\n",
       "      <td>POINT (2175503.146386402 -322148.2786943205)</td>\n",
       "      <td>6546.268499</td>\n",
       "      <td>kleberg elementary school</td>\n",
       "    </tr>\n",
       "    <tr>\n",
       "      <th>21</th>\n",
       "      <td>Moseley Elementary School</td>\n",
       "      <td>Elementary</td>\n",
       "      <td>Nancy Moseley Elementary School</td>\n",
       "      <td>POINT (2171555.565239049 -322569.5859694094)</td>\n",
       "      <td>5536.960701</td>\n",
       "      <td>nancy moseley elementary school</td>\n",
       "    </tr>\n",
       "    <tr>\n",
       "      <th>22</th>\n",
       "      <td>Halliday Elementary School</td>\n",
       "      <td>Elementary</td>\n",
       "      <td>Ebby Halliday Elementary School</td>\n",
       "      <td>POINT (2171581.379692788 -324465.5969391335)</td>\n",
       "      <td>6723.505756</td>\n",
       "      <td>ebby halliday elementary school</td>\n",
       "    </tr>\n",
       "    <tr>\n",
       "      <th>23</th>\n",
       "      <td>Ervin Elementary School</td>\n",
       "      <td>Elementary</td>\n",
       "      <td>J.N. Ervin Elementary School</td>\n",
       "      <td>POINT (2160896.232134296 -326352.0888041789)</td>\n",
       "      <td>6025.819933</td>\n",
       "      <td>j.n. ervin elementary school</td>\n",
       "    </tr>\n",
       "    <tr>\n",
       "      <th>24</th>\n",
       "      <td>Wilmer-Hutchins Elementary School</td>\n",
       "      <td>Elementary</td>\n",
       "      <td>Wilmer-Hutchins Elementary School</td>\n",
       "      <td>POINT (2164727.421178647 -328298.4233066044)</td>\n",
       "      <td>9440.748742</td>\n",
       "      <td>wilmer-hutchins elementary school</td>\n",
       "    </tr>\n",
       "    <tr>\n",
       "      <th>25</th>\n",
       "      <td>Alexander Elementary School</td>\n",
       "      <td>Elementary</td>\n",
       "      <td>Birdie Alexander Elementary School</td>\n",
       "      <td>POINT (2153744.688890112 -330834.6308876206)</td>\n",
       "      <td>4455.639498</td>\n",
       "      <td>birdie alexander elementary school</td>\n",
       "    </tr>\n",
       "    <tr>\n",
       "      <th>26</th>\n",
       "      <td>U. Lee Elementary School</td>\n",
       "      <td>Elementary</td>\n",
       "      <td>Umphrey Lee Elementary School</td>\n",
       "      <td>POINT (2154941.521580248 -330905.7217196887)</td>\n",
       "      <td>4782.381968</td>\n",
       "      <td>umphrey lee elementary school</td>\n",
       "    </tr>\n",
       "    <tr>\n",
       "      <th>27</th>\n",
       "      <td>McNair Elementary School</td>\n",
       "      <td>Elementary</td>\n",
       "      <td>Ronald E. McNair Elementary School</td>\n",
       "      <td>POINT (2152315.38864569 -331171.2358635822)</td>\n",
       "      <td>4816.920676</td>\n",
       "      <td>ronald e. mcnair elementary school</td>\n",
       "    </tr>\n",
       "    <tr>\n",
       "      <th>28</th>\n",
       "      <td>Weiss Elementary School</td>\n",
       "      <td>Elementary</td>\n",
       "      <td>Martin Weiss Elementary School</td>\n",
       "      <td>POINT (2155636.742668501 -331753.1070973789)</td>\n",
       "      <td>5675.021695</td>\n",
       "      <td>martin weiss elementary school</td>\n",
       "    </tr>\n",
       "    <tr>\n",
       "      <th>29</th>\n",
       "      <td>Blair Elementary School</td>\n",
       "      <td>Elementary</td>\n",
       "      <td>W.A. Blair Elementary School</td>\n",
       "      <td>POINT (2166808.801174209 -321547.728554402)</td>\n",
       "      <td>6837.373334</td>\n",
       "      <td>w.a. blair elementary school</td>\n",
       "    </tr>\n",
       "    <tr>\n",
       "      <th>...</th>\n",
       "      <td>...</td>\n",
       "      <td>...</td>\n",
       "      <td>...</td>\n",
       "      <td>...</td>\n",
       "      <td>...</td>\n",
       "      <td>...</td>\n",
       "    </tr>\n",
       "    <tr>\n",
       "      <th>192</th>\n",
       "      <td>Ireland Elementary School</td>\n",
       "      <td>Elementary</td>\n",
       "      <td>John Ireland Elementary School</td>\n",
       "      <td>POINT (2164823.998764072 -318527.2762312205)</td>\n",
       "      <td>4454.434092</td>\n",
       "      <td>john ireland elementary school</td>\n",
       "    </tr>\n",
       "    <tr>\n",
       "      <th>193</th>\n",
       "      <td>San Jacinto Elementary School</td>\n",
       "      <td>Elementary</td>\n",
       "      <td>San Jacinto Elementary School</td>\n",
       "      <td>POINT (2165760.969378789 -316304.8385674329)</td>\n",
       "      <td>4491.305492</td>\n",
       "      <td>san jacinto elementary school</td>\n",
       "    </tr>\n",
       "    <tr>\n",
       "      <th>194</th>\n",
       "      <td>Urban Park Elementary School</td>\n",
       "      <td>Elementary</td>\n",
       "      <td>Urban Park Elementary School</td>\n",
       "      <td>POINT (2163875.377509019 -314843.2617587531)</td>\n",
       "      <td>4333.013578</td>\n",
       "      <td>urban park elementary school</td>\n",
       "    </tr>\n",
       "    <tr>\n",
       "      <th>195</th>\n",
       "      <td>Richardson Elementary School</td>\n",
       "      <td>Elementary</td>\n",
       "      <td>Thelma Elizabeth Page Richardson Elementary Sc...</td>\n",
       "      <td>POINT (2165202.370525017 -317194.3236306664)</td>\n",
       "      <td>4288.617656</td>\n",
       "      <td>thelma elizabeth page richardson elementary sc...</td>\n",
       "    </tr>\n",
       "    <tr>\n",
       "      <th>196</th>\n",
       "      <td>Chapel Hill Elementary School</td>\n",
       "      <td>Elementary</td>\n",
       "      <td>Chapel Hill Elementary School</td>\n",
       "      <td>POINT (2145078.317861381 -303084.5763718896)</td>\n",
       "      <td>3968.561345</td>\n",
       "      <td>chapel hill elementary school</td>\n",
       "    </tr>\n",
       "    <tr>\n",
       "      <th>197</th>\n",
       "      <td>Junkins Elementary School</td>\n",
       "      <td>Elementary</td>\n",
       "      <td>Jerry R. Junkins Elementary School</td>\n",
       "      <td>POINT (2144447.467714463 -296879.1929370239)</td>\n",
       "      <td>7825.749972</td>\n",
       "      <td>jerry r. junkins elementary school</td>\n",
       "    </tr>\n",
       "    <tr>\n",
       "      <th>198</th>\n",
       "      <td>Bush Elementary School</td>\n",
       "      <td>Elementary</td>\n",
       "      <td>George H.W. Bush Elementary School</td>\n",
       "      <td>POINT (2145892.814616434 -300167.8774652649)</td>\n",
       "      <td>4772.729416</td>\n",
       "      <td>george h.w. bush elementary school</td>\n",
       "    </tr>\n",
       "    <tr>\n",
       "      <th>199</th>\n",
       "      <td>Smith Elementary School</td>\n",
       "      <td>Elementary</td>\n",
       "      <td>Larry G. Smith Elementary School</td>\n",
       "      <td>POINT (2166181.838946577 -307538.6387036666)</td>\n",
       "      <td>5492.427140</td>\n",
       "      <td>larry g. smith elementary school</td>\n",
       "    </tr>\n",
       "    <tr>\n",
       "      <th>200</th>\n",
       "      <td>Central Elementary School</td>\n",
       "      <td>Elementary</td>\n",
       "      <td>Central Elementary School</td>\n",
       "      <td>POINT (2181937.698264277 -323510.611364305)</td>\n",
       "      <td>11364.960623</td>\n",
       "      <td>central elementary school</td>\n",
       "    </tr>\n",
       "    <tr>\n",
       "      <th>201</th>\n",
       "      <td>Seagoville Elementary School</td>\n",
       "      <td>Elementary</td>\n",
       "      <td>Seagoville Elementary School</td>\n",
       "      <td>POINT (2182179.889158112 -325433.7318429532)</td>\n",
       "      <td>12272.608780</td>\n",
       "      <td>seagoville elementary school</td>\n",
       "    </tr>\n",
       "    <tr>\n",
       "      <th>202</th>\n",
       "      <td>Seagoville North Elementary</td>\n",
       "      <td>Elementary</td>\n",
       "      <td>Seagoville North Elementary</td>\n",
       "      <td>POINT (2180063.444890199 -323349.3926390717)</td>\n",
       "      <td>9772.862540</td>\n",
       "      <td>seagoville north elementary</td>\n",
       "    </tr>\n",
       "    <tr>\n",
       "      <th>203</th>\n",
       "      <td>Rosemont Elementary School</td>\n",
       "      <td>Elementary</td>\n",
       "      <td>Rosemont Elementary School</td>\n",
       "      <td>POINT (2151210.205832573 -320548.8352154605)</td>\n",
       "      <td>3110.378618</td>\n",
       "      <td>rosemont elementary school</td>\n",
       "    </tr>\n",
       "    <tr>\n",
       "      <th>205</th>\n",
       "      <td>Lanier Elementary School</td>\n",
       "      <td>Elementary</td>\n",
       "      <td>Sidney Lanier Center for Expressive Arts</td>\n",
       "      <td>POINT (2151044.986322486 -318622.0527681042)</td>\n",
       "      <td>4256.276575</td>\n",
       "      <td>sidney lanier center for expressive arts</td>\n",
       "    </tr>\n",
       "    <tr>\n",
       "      <th>206</th>\n",
       "      <td>Polk Elementary School</td>\n",
       "      <td>Elementary</td>\n",
       "      <td>K.B. Polk Center for Academically Talented and...</td>\n",
       "      <td>POINT (2150209.272028484 -310458.5811872664)</td>\n",
       "      <td>6807.172122</td>\n",
       "      <td>k.b. polk center for academically talented and...</td>\n",
       "    </tr>\n",
       "    <tr>\n",
       "      <th>207</th>\n",
       "      <td>Twain Leadership Vanguard</td>\n",
       "      <td>Elementary</td>\n",
       "      <td>Mark Twain Fundamental Vanguard</td>\n",
       "      <td>POINT (2154294.003438286 -327506.4385547736)</td>\n",
       "      <td>3541.977173</td>\n",
       "      <td>mark twain fundamental vanguard</td>\n",
       "    </tr>\n",
       "    <tr>\n",
       "      <th>208</th>\n",
       "      <td>May Elementary School</td>\n",
       "      <td>Elementary</td>\n",
       "      <td>Jose \"Joe\" May Elementary School</td>\n",
       "      <td>POINT (2145480.15306424 -308276.8692266247)</td>\n",
       "      <td>7030.146239</td>\n",
       "      <td>jose \"joe\" may elementary school</td>\n",
       "    </tr>\n",
       "    <tr>\n",
       "      <th>209</th>\n",
       "      <td>Roosevelt High School</td>\n",
       "      <td>High</td>\n",
       "      <td>Franklin D. Roosevelt High School</td>\n",
       "      <td>POINT (2156072.317809561 -320406.8202012265)</td>\n",
       "      <td>5551.063315</td>\n",
       "      <td>franklin d. roosevelt high school</td>\n",
       "    </tr>\n",
       "    <tr>\n",
       "      <th>210</th>\n",
       "      <td>South Oak Cliff High School</td>\n",
       "      <td>High</td>\n",
       "      <td>South Oak Cliff High School</td>\n",
       "      <td>POINT (2155439.870485543 -325441.9356770939)</td>\n",
       "      <td>5189.193530</td>\n",
       "      <td>south oak cliff high school</td>\n",
       "    </tr>\n",
       "    <tr>\n",
       "      <th>216</th>\n",
       "      <td>Jefferson High School</td>\n",
       "      <td>High</td>\n",
       "      <td>Thomas Jefferson High School</td>\n",
       "      <td>POINT (2147940.677081443 -306498.0137661602)</td>\n",
       "      <td>4280.999196</td>\n",
       "      <td>thomas jefferson high school</td>\n",
       "    </tr>\n",
       "    <tr>\n",
       "      <th>217</th>\n",
       "      <td>White High School</td>\n",
       "      <td>High</td>\n",
       "      <td>W.T. White High School</td>\n",
       "      <td>POINT (2148211.264381897 -302440.5056827138)</td>\n",
       "      <td>3420.026432</td>\n",
       "      <td>w.t. white high school</td>\n",
       "    </tr>\n",
       "    <tr>\n",
       "      <th>219</th>\n",
       "      <td>Conrad High School</td>\n",
       "      <td>High</td>\n",
       "      <td>Emmett J. Conrad High School</td>\n",
       "      <td>POINT (2156547.102492484 -304979.3849695213)</td>\n",
       "      <td>6346.342491</td>\n",
       "      <td>emmett j. conrad high school</td>\n",
       "    </tr>\n",
       "    <tr>\n",
       "      <th>220</th>\n",
       "      <td>Samuell High School</td>\n",
       "      <td>High</td>\n",
       "      <td>W.W. Samuell High School</td>\n",
       "      <td>POINT (2167740.108426223 -317138.3835543729)</td>\n",
       "      <td>5869.615781</td>\n",
       "      <td>w.w. samuell high school</td>\n",
       "    </tr>\n",
       "    <tr>\n",
       "      <th>221</th>\n",
       "      <td>Spruce High School</td>\n",
       "      <td>High</td>\n",
       "      <td>H. Grady Spruce High School</td>\n",
       "      <td>POINT (2169936.813430788 -320561.7347492985)</td>\n",
       "      <td>4783.413950</td>\n",
       "      <td>h. grady spruce high school</td>\n",
       "    </tr>\n",
       "    <tr>\n",
       "      <th>225</th>\n",
       "      <td>Skyline High School</td>\n",
       "      <td>High</td>\n",
       "      <td>Skyline High School</td>\n",
       "      <td>POINT (2164708.00836017 -313881.430635843)</td>\n",
       "      <td>4871.505246</td>\n",
       "      <td>skyline high school</td>\n",
       "    </tr>\n",
       "    <tr>\n",
       "      <th>226</th>\n",
       "      <td>Lincoln High School</td>\n",
       "      <td>High</td>\n",
       "      <td>Lincoln Humanities/Communications Magnet High ...</td>\n",
       "      <td>POINT (2160016.854456985 -317992.0787471877)</td>\n",
       "      <td>4977.147767</td>\n",
       "      <td>lincoln humanities/communications magnet high ...</td>\n",
       "    </tr>\n",
       "    <tr>\n",
       "      <th>242</th>\n",
       "      <td>Sanger Preparatory Middle School</td>\n",
       "      <td>Middle</td>\n",
       "      <td>Alex Sanger Preparatory Middle School</td>\n",
       "      <td>POINT (2162102.378918824 -310772.5809916691)</td>\n",
       "      <td>4748.190503</td>\n",
       "      <td>alex sanger preparatory middle school</td>\n",
       "    </tr>\n",
       "    <tr>\n",
       "      <th>243</th>\n",
       "      <td>Sanger Preparatory Elementary School</td>\n",
       "      <td>Elementary</td>\n",
       "      <td>Alex Sanger Preparatory Elementary School</td>\n",
       "      <td>POINT (2162102.378918824 -310772.5809916691)</td>\n",
       "      <td>4748.190503</td>\n",
       "      <td>alex sanger preparatory elementary school</td>\n",
       "    </tr>\n",
       "    <tr>\n",
       "      <th>244</th>\n",
       "      <td>Starks Elementary School</td>\n",
       "      <td>Elementary</td>\n",
       "      <td>J.P. Starks Elementary School</td>\n",
       "      <td>POINT (2158682.97335118 -322097.0379556813)</td>\n",
       "      <td>7763.538521</td>\n",
       "      <td>j.p. starks elementary school</td>\n",
       "    </tr>\n",
       "    <tr>\n",
       "      <th>245</th>\n",
       "      <td>Holmes Middle School</td>\n",
       "      <td>Middle</td>\n",
       "      <td>Oliver Wendell Holmes Humanities/Communication...</td>\n",
       "      <td>POINT (2157293.286562414 -323068.712629044)</td>\n",
       "      <td>4337.941559</td>\n",
       "      <td>oliver wendell holmes humanities/communication...</td>\n",
       "    </tr>\n",
       "    <tr>\n",
       "      <th>247</th>\n",
       "      <td>Pleasant Grove Elementary School</td>\n",
       "      <td>Elementary</td>\n",
       "      <td>Pleasant Grove Elementary School</td>\n",
       "      <td>POINT (2169017.237802946 -317600.4274866018)</td>\n",
       "      <td>5161.420876</td>\n",
       "      <td>pleasant grove elementary school</td>\n",
       "    </tr>\n",
       "  </tbody>\n",
       "</table>\n",
       "<p>194 rows × 6 columns</p>\n",
       "</div>"
      ],
      "text/plain": [
       "                                            SCHOOLNAME      LEVEL2  \\\n",
       "0    Franklin International Exploratory Academy Mid...      Middle   \n",
       "1                             Seagoville Middle School      Middle   \n",
       "2                          Kennedy-Curry Middle School      Middle   \n",
       "3                                   Dade Middle School      Middle   \n",
       "4                               Lang Sr. Middle School      Middle   \n",
       "5                 Richards STEAM Academy Middle School      Middle   \n",
       "6                                   Long Middle School      Middle   \n",
       "7                                   Rusk Middle School      Middle   \n",
       "8                                Medrano Middle School      Middle   \n",
       "9                                 Garcia Middle School      Middle   \n",
       "10                       Quintanilla Sr. Middle School      Middle   \n",
       "11                              Stockard Middle School      Middle   \n",
       "12                                Gaston Middle School      Middle   \n",
       "13                                  Hill Middle School      Middle   \n",
       "14                               Zumwalt Middle School      Middle   \n",
       "15                                Browne Middle School      Middle   \n",
       "16                            Holmes Jr. Middle School      Middle   \n",
       "17                  Highland Meadows Elementary School  Elementary   \n",
       "18                             Frank Elementary School  Elementary   \n",
       "19                            Kramer Elementary School  Elementary   \n",
       "20                           Kleberg Elementary School  Elementary   \n",
       "21                           Moseley Elementary School  Elementary   \n",
       "22                          Halliday Elementary School  Elementary   \n",
       "23                             Ervin Elementary School  Elementary   \n",
       "24                   Wilmer-Hutchins Elementary School  Elementary   \n",
       "25                         Alexander Elementary School  Elementary   \n",
       "26                            U. Lee Elementary School  Elementary   \n",
       "27                            McNair Elementary School  Elementary   \n",
       "28                             Weiss Elementary School  Elementary   \n",
       "29                             Blair Elementary School  Elementary   \n",
       "..                                                 ...         ...   \n",
       "192                          Ireland Elementary School  Elementary   \n",
       "193                      San Jacinto Elementary School  Elementary   \n",
       "194                       Urban Park Elementary School  Elementary   \n",
       "195                       Richardson Elementary School  Elementary   \n",
       "196                      Chapel Hill Elementary School  Elementary   \n",
       "197                          Junkins Elementary School  Elementary   \n",
       "198                             Bush Elementary School  Elementary   \n",
       "199                            Smith Elementary School  Elementary   \n",
       "200                          Central Elementary School  Elementary   \n",
       "201                       Seagoville Elementary School  Elementary   \n",
       "202                        Seagoville North Elementary  Elementary   \n",
       "203                         Rosemont Elementary School  Elementary   \n",
       "205                           Lanier Elementary School  Elementary   \n",
       "206                             Polk Elementary School  Elementary   \n",
       "207                          Twain Leadership Vanguard  Elementary   \n",
       "208                              May Elementary School  Elementary   \n",
       "209                              Roosevelt High School        High   \n",
       "210                        South Oak Cliff High School        High   \n",
       "216                              Jefferson High School        High   \n",
       "217                                  White High School        High   \n",
       "219                                 Conrad High School        High   \n",
       "220                                Samuell High School        High   \n",
       "221                                 Spruce High School        High   \n",
       "225                                Skyline High School        High   \n",
       "226                                Lincoln High School        High   \n",
       "242                   Sanger Preparatory Middle School      Middle   \n",
       "243               Sanger Preparatory Elementary School  Elementary   \n",
       "244                           Starks Elementary School  Elementary   \n",
       "245                               Holmes Middle School      Middle   \n",
       "247                   Pleasant Grove Elementary School  Elementary   \n",
       "\n",
       "                                              FULLNAME  \\\n",
       "0    Benjamin Franklin International Exploratory Ac...   \n",
       "1                             Seagoville Middle School   \n",
       "2                          Kennedy-Curry Middle School   \n",
       "3                        Billy Earl Dade Middle School   \n",
       "4                     Harold W. Lang Sr. Middle School   \n",
       "5             Ann Richards STEAM Academy Middle School   \n",
       "6                              J.L. Long Middle School   \n",
       "7                         Thomas J. Rusk Middle School   \n",
       "8                      Francisco Medrano Middle School   \n",
       "9                          Hector Garcia Middle School   \n",
       "10                  Raul Quintanilla Sr. Middle School   \n",
       "11                         L.V. Stockard Middle School   \n",
       "12                           W.H. Gaston Middle School   \n",
       "13                        Robert T. Hill Middle School   \n",
       "14                         Sarah Zumwalt Middle School   \n",
       "15                           T.W. Browne Middle School   \n",
       "16                 Zan Wesley Holmes Jr. Middle School   \n",
       "17                  Highland Meadows Elementary School   \n",
       "18                        Anne Frank Elementary School   \n",
       "19                     Arthur Kramer Elementary School   \n",
       "20                           Kleberg Elementary School   \n",
       "21                     Nancy Moseley Elementary School   \n",
       "22                     Ebby Halliday Elementary School   \n",
       "23                        J.N. Ervin Elementary School   \n",
       "24                   Wilmer-Hutchins Elementary School   \n",
       "25                  Birdie Alexander Elementary School   \n",
       "26                       Umphrey Lee Elementary School   \n",
       "27                  Ronald E. McNair Elementary School   \n",
       "28                      Martin Weiss Elementary School   \n",
       "29                        W.A. Blair Elementary School   \n",
       "..                                                 ...   \n",
       "192                     John Ireland Elementary School   \n",
       "193                      San Jacinto Elementary School   \n",
       "194                       Urban Park Elementary School   \n",
       "195  Thelma Elizabeth Page Richardson Elementary Sc...   \n",
       "196                      Chapel Hill Elementary School   \n",
       "197                 Jerry R. Junkins Elementary School   \n",
       "198                 George H.W. Bush Elementary School   \n",
       "199                   Larry G. Smith Elementary School   \n",
       "200                          Central Elementary School   \n",
       "201                       Seagoville Elementary School   \n",
       "202                        Seagoville North Elementary   \n",
       "203                         Rosemont Elementary School   \n",
       "205           Sidney Lanier Center for Expressive Arts   \n",
       "206  K.B. Polk Center for Academically Talented and...   \n",
       "207                    Mark Twain Fundamental Vanguard   \n",
       "208                   Jose \"Joe\" May Elementary School   \n",
       "209                  Franklin D. Roosevelt High School   \n",
       "210                        South Oak Cliff High School   \n",
       "216                       Thomas Jefferson High School   \n",
       "217                             W.T. White High School   \n",
       "219                       Emmett J. Conrad High School   \n",
       "220                           W.W. Samuell High School   \n",
       "221                        H. Grady Spruce High School   \n",
       "225                                Skyline High School   \n",
       "226  Lincoln Humanities/Communications Magnet High ...   \n",
       "242              Alex Sanger Preparatory Middle School   \n",
       "243          Alex Sanger Preparatory Elementary School   \n",
       "244                      J.P. Starks Elementary School   \n",
       "245  Oliver Wendell Holmes Humanities/Communication...   \n",
       "247                   Pleasant Grove Elementary School   \n",
       "\n",
       "                                         geometry  AverageDistance  \\\n",
       "0    POINT (2153334.290724595 -304737.2756374292)      6415.899722   \n",
       "1      POINT (2177130.7301998 -322015.9002579185)      7380.017507   \n",
       "2    POINT (2161795.577757093 -328259.8936263155)      7492.457374   \n",
       "3     POINT (2157417.19718433 -316769.0317791677)      6584.205386   \n",
       "4      POINT (2164476.3871318 -311512.6705161431)      6604.952406   \n",
       "5    POINT (2167197.763814454 -314453.8509375164)      5795.551851   \n",
       "6    POINT (2158560.461616143 -312403.7835348495)      4847.751981   \n",
       "7    POINT (2150335.665893057 -312200.8444523215)      5986.980242   \n",
       "8    POINT (2145334.891930921 -308213.6440331889)      7130.899699   \n",
       "9    POINT (2154305.880830271 -319984.0086333971)      4811.839342   \n",
       "10   POINT (2149266.623015875 -319857.4565992085)      3634.783775   \n",
       "11   POINT (2150165.037446018 -324104.0331634115)      3640.534119   \n",
       "12   POINT (2163193.407390153 -309207.6047273562)      4097.625962   \n",
       "13   POINT (2161452.071967333 -306141.2947025611)      4130.970870   \n",
       "14   POINT (2158730.958916361 -325561.4551234897)      4781.445287   \n",
       "15   POINT (2150042.108938274 -327099.6866997825)      4139.456499   \n",
       "16   POINT (2150375.002845836 -325404.2375355111)      4358.783154   \n",
       "17   POINT (2162524.706850385 -304143.1784285004)      5221.366472   \n",
       "18   POINT (2148633.108016734 -298807.4014054369)      5645.394937   \n",
       "19   POINT (2153001.759263095 -302916.1204562159)      6420.773726   \n",
       "20   POINT (2175503.146386402 -322148.2786943205)      6546.268499   \n",
       "21   POINT (2171555.565239049 -322569.5859694094)      5536.960701   \n",
       "22   POINT (2171581.379692788 -324465.5969391335)      6723.505756   \n",
       "23   POINT (2160896.232134296 -326352.0888041789)      6025.819933   \n",
       "24   POINT (2164727.421178647 -328298.4233066044)      9440.748742   \n",
       "25   POINT (2153744.688890112 -330834.6308876206)      4455.639498   \n",
       "26   POINT (2154941.521580248 -330905.7217196887)      4782.381968   \n",
       "27    POINT (2152315.38864569 -331171.2358635822)      4816.920676   \n",
       "28   POINT (2155636.742668501 -331753.1070973789)      5675.021695   \n",
       "29    POINT (2166808.801174209 -321547.728554402)      6837.373334   \n",
       "..                                            ...              ...   \n",
       "192  POINT (2164823.998764072 -318527.2762312205)      4454.434092   \n",
       "193  POINT (2165760.969378789 -316304.8385674329)      4491.305492   \n",
       "194  POINT (2163875.377509019 -314843.2617587531)      4333.013578   \n",
       "195  POINT (2165202.370525017 -317194.3236306664)      4288.617656   \n",
       "196  POINT (2145078.317861381 -303084.5763718896)      3968.561345   \n",
       "197  POINT (2144447.467714463 -296879.1929370239)      7825.749972   \n",
       "198  POINT (2145892.814616434 -300167.8774652649)      4772.729416   \n",
       "199  POINT (2166181.838946577 -307538.6387036666)      5492.427140   \n",
       "200   POINT (2181937.698264277 -323510.611364305)     11364.960623   \n",
       "201  POINT (2182179.889158112 -325433.7318429532)     12272.608780   \n",
       "202  POINT (2180063.444890199 -323349.3926390717)      9772.862540   \n",
       "203  POINT (2151210.205832573 -320548.8352154605)      3110.378618   \n",
       "205  POINT (2151044.986322486 -318622.0527681042)      4256.276575   \n",
       "206  POINT (2150209.272028484 -310458.5811872664)      6807.172122   \n",
       "207  POINT (2154294.003438286 -327506.4385547736)      3541.977173   \n",
       "208   POINT (2145480.15306424 -308276.8692266247)      7030.146239   \n",
       "209  POINT (2156072.317809561 -320406.8202012265)      5551.063315   \n",
       "210  POINT (2155439.870485543 -325441.9356770939)      5189.193530   \n",
       "216  POINT (2147940.677081443 -306498.0137661602)      4280.999196   \n",
       "217  POINT (2148211.264381897 -302440.5056827138)      3420.026432   \n",
       "219  POINT (2156547.102492484 -304979.3849695213)      6346.342491   \n",
       "220  POINT (2167740.108426223 -317138.3835543729)      5869.615781   \n",
       "221  POINT (2169936.813430788 -320561.7347492985)      4783.413950   \n",
       "225    POINT (2164708.00836017 -313881.430635843)      4871.505246   \n",
       "226  POINT (2160016.854456985 -317992.0787471877)      4977.147767   \n",
       "242  POINT (2162102.378918824 -310772.5809916691)      4748.190503   \n",
       "243  POINT (2162102.378918824 -310772.5809916691)      4748.190503   \n",
       "244   POINT (2158682.97335118 -322097.0379556813)      7763.538521   \n",
       "245   POINT (2157293.286562414 -323068.712629044)      4337.941559   \n",
       "247  POINT (2169017.237802946 -317600.4274866018)      5161.420876   \n",
       "\n",
       "                                                  name  \n",
       "0    benjamin franklin international exploratory ac...  \n",
       "1                             seagoville middle school  \n",
       "2                          kennedy-curry middle school  \n",
       "3                        billy earl dade middle school  \n",
       "4                     harold w. lang sr. middle school  \n",
       "5             ann richards steam academy middle school  \n",
       "6                              j.l. long middle school  \n",
       "7                         thomas j. rusk middle school  \n",
       "8                      francisco medrano middle school  \n",
       "9                          hector garcia middle school  \n",
       "10                  raul quintanilla sr. middle school  \n",
       "11                         l.v. stockard middle school  \n",
       "12                           w.h. gaston middle school  \n",
       "13                        robert t. hill middle school  \n",
       "14                         sarah zumwalt middle school  \n",
       "15                           t.w. browne middle school  \n",
       "16                 zan wesley holmes jr. middle school  \n",
       "17                  highland meadows elementary school  \n",
       "18                        anne frank elementary school  \n",
       "19                     arthur kramer elementary school  \n",
       "20                           kleberg elementary school  \n",
       "21                     nancy moseley elementary school  \n",
       "22                     ebby halliday elementary school  \n",
       "23                        j.n. ervin elementary school  \n",
       "24                   wilmer-hutchins elementary school  \n",
       "25                  birdie alexander elementary school  \n",
       "26                       umphrey lee elementary school  \n",
       "27                  ronald e. mcnair elementary school  \n",
       "28                      martin weiss elementary school  \n",
       "29                        w.a. blair elementary school  \n",
       "..                                                 ...  \n",
       "192                     john ireland elementary school  \n",
       "193                      san jacinto elementary school  \n",
       "194                       urban park elementary school  \n",
       "195  thelma elizabeth page richardson elementary sc...  \n",
       "196                      chapel hill elementary school  \n",
       "197                 jerry r. junkins elementary school  \n",
       "198                 george h.w. bush elementary school  \n",
       "199                   larry g. smith elementary school  \n",
       "200                          central elementary school  \n",
       "201                       seagoville elementary school  \n",
       "202                        seagoville north elementary  \n",
       "203                         rosemont elementary school  \n",
       "205           sidney lanier center for expressive arts  \n",
       "206  k.b. polk center for academically talented and...  \n",
       "207                    mark twain fundamental vanguard  \n",
       "208                   jose \"joe\" may elementary school  \n",
       "209                  franklin d. roosevelt high school  \n",
       "210                        south oak cliff high school  \n",
       "216                       thomas jefferson high school  \n",
       "217                             w.t. white high school  \n",
       "219                       emmett j. conrad high school  \n",
       "220                           w.w. samuell high school  \n",
       "221                        h. grady spruce high school  \n",
       "225                                skyline high school  \n",
       "226  lincoln humanities/communications magnet high ...  \n",
       "242              alex sanger preparatory middle school  \n",
       "243          alex sanger preparatory elementary school  \n",
       "244                      j.p. starks elementary school  \n",
       "245  oliver wendell holmes humanities/communication...  \n",
       "247                   pleasant grove elementary school  \n",
       "\n",
       "[194 rows x 6 columns]"
      ]
     },
     "execution_count": 17,
     "metadata": {},
     "output_type": "execute_result"
    }
   ],
   "source": [
    "gdf"
   ]
  },
  {
   "cell_type": "code",
   "execution_count": 18,
   "metadata": {},
   "outputs": [],
   "source": [
    "df2 = df.join(gdf.set_index('name'),on='name',how='inner')"
   ]
  },
  {
   "cell_type": "code",
   "execution_count": 19,
   "metadata": {},
   "outputs": [
    {
     "data": {
      "text/plain": [
       "<matplotlib.axes._subplots.AxesSubplot at 0x11aed7b38>"
      ]
     },
     "execution_count": 19,
     "metadata": {},
     "output_type": "execute_result"
    },
    {
     "data": {
      "image/png": "[encoded data removed]",
      "text/plain": [
       "<Figure size 432x288 with 1 Axes>"
      ]
     },
     "metadata": {
      "needs_background": "light"
     },
     "output_type": "display_data"
    }
   ],
   "source": [
    "df2.plot(x='AverageDistance',y='2016-17SEI',alpha=0.5,linestyle='',marker='o',logx=True)"
   ]
  },
  {
   "cell_type": "code",
   "execution_count": 20,
   "metadata": {},
   "outputs": [
    {
     "data": {
      "text/plain": [
       "<matplotlib.axes._subplots.AxesSubplot at 0x11b4c4668>"
      ]
     },
     "execution_count": 20,
     "metadata": {},
     "output_type": "execute_result"
    },
    {
     "data": {
      "image/png": "[encoded data removed]",
      "text/plain": [
       "<Figure size 432x288 with 1 Axes>"
      ]
     },
     "metadata": {
      "needs_background": "light"
     },
     "output_type": "display_data"
    }
   ],
   "source": [
    "df2.plot(x='AverageDistance',y='2016-17SEI',alpha=0.5,linestyle='',marker='o',logx=False)"
   ]
  },
  {
   "cell_type": "code",
   "execution_count": 21,
   "metadata": {},
   "outputs": [],
   "source": [
    "def NumRails(x):\n",
    "    dists = rail['geometry'].distance(x)\n",
    "    return sum(dists<=1500)"
   ]
  },
  {
   "cell_type": "code",
   "execution_count": 22,
   "metadata": {},
   "outputs": [],
   "source": [
    "gdf['NumberOfRail']=gdf['geometry'].apply(lambda x: NumRails(x))"
   ]
  },
  {
   "cell_type": "code",
   "execution_count": 23,
   "metadata": {},
   "outputs": [],
   "source": [
    "appenddf = gdf.loc[:,['name','AverageDistance','NumberOfRail']]"
   ]
  },
  {
   "cell_type": "code",
   "execution_count": 24,
   "metadata": {},
   "outputs": [
    {
     "data": {
      "text/plain": [
       "<matplotlib.axes._subplots.AxesSubplot at 0x11aec3470>"
      ]
     },
     "execution_count": 24,
     "metadata": {},
     "output_type": "execute_result"
    },
    {
     "data": {
      "image/png": "[encoded data removed]",
      "text/plain": [
       "<Figure size 432x288 with 1 Axes>"
      ]
     },
     "metadata": {
      "needs_background": "light"
     },
     "output_type": "display_data"
    }
   ],
   "source": [
    "df2 = df.join(appenddf.set_index('name'),on='name',how='left')\n",
    "df2.plot(x='AverageDistance',y='2016-17SEI',alpha=0.5,linestyle='',marker='o',logx=True)"
   ]
  },
  {
   "cell_type": "code",
   "execution_count": 25,
   "metadata": {},
   "outputs": [],
   "source": [
    "df2.to_csv('data_spatial.csv')"
   ]
  },
  {
   "cell_type": "code",
   "execution_count": 508,
   "metadata": {},
   "outputs": [
    {
     "data": {
      "text/plain": [
       "<matplotlib.axes._subplots.AxesSubplot at 0x12740a6d8>"
      ]
     },
     "execution_count": 508,
     "metadata": {},
     "output_type": "execute_result"
    },
    {
     "data": {
      "image/png": "[encoded data removed]",
      "text/plain": [
       "<Figure size 432x288 with 1 Axes>"
      ]
     },
     "metadata": {
      "needs_background": "light"
     },
     "output_type": "display_data"
    }
   ],
   "source": [
    "df2.boxplot(column='2016-17SEI',by='NumberOfRail')"
   ]
  },
  {
   "cell_type": "code",
   "execution_count": 509,
   "metadata": {},
   "outputs": [
    {
     "data": {
      "text/plain": [
       "<matplotlib.axes._subplots.AxesSubplot at 0x127715d68>"
      ]
     },
     "execution_count": 509,
     "metadata": {},
     "output_type": "execute_result"
    },
    {
     "data": {
      "image/png": "[encoded data removed]",
      "text/plain": [
       "<Figure size 432x288 with 1 Axes>"
      ]
     },
     "metadata": {
      "needs_background": "light"
     },
     "output_type": "display_data"
    }
   ],
   "source": [
    "df2['2016-17SEI'].hist()"
   ]
  },
  {
   "cell_type": "code",
   "execution_count": 511,
   "metadata": {},
   "outputs": [
    {
     "data": {
      "text/plain": [
       "<matplotlib.axes._subplots.AxesSubplot at 0x127499940>"
      ]
     },
     "execution_count": 511,
     "metadata": {},
     "output_type": "execute_result"
    },
    {
     "data": {
      "image/png": "[encoded data removed]",
      "text/plain": [
       "<Figure size 432x288 with 1 Axes>"
      ]
     },
     "metadata": {
      "needs_background": "light"
     },
     "output_type": "display_data"
    }
   ],
   "source": [
    "gtb.plot()"
   ]
  },
  {
   "cell_type": "code",
   "execution_count": 75,
   "metadata": {},
   "outputs": [],
   "source": [
    "z = pd.read_excel(r\"/Users/ZhengLi/SMU_OneDrive/OneDrive - Southern Methodist University/SMU/Z89_new.xls\",\n",
    "                 sheet_name='L9',\n",
    "                 header=None,\n",
    "                 usecols = 274,\n",
    "                 nrows = 289,\n",
    "                 na_values='nan',\n",
    "                 )"
   ]
  },
  {
   "cell_type": "code",
   "execution_count": 76,
   "metadata": {},
   "outputs": [
    {
     "name": "stdout",
     "output_type": "stream",
     "text": [
      "(279, 256)\n"
     ]
    }
   ],
   "source": [
    "print(z.shape)\n",
    "z = z.values"
   ]
  },
  {
   "cell_type": "code",
   "execution_count": 77,
   "metadata": {},
   "outputs": [],
   "source": [
    "z[np.isnan(z)]=0"
   ]
  },
  {
   "cell_type": "code",
   "execution_count": 78,
   "metadata": {},
   "outputs": [],
   "source": [
    "z9 = np.zeros((289,274))"
   ]
  },
  {
   "cell_type": "code",
   "execution_count": 79,
   "metadata": {},
   "outputs": [],
   "source": [
    "z9[0:279,0:256] = z"
   ]
  },
  {
   "cell_type": "code",
   "execution_count": 80,
   "metadata": {},
   "outputs": [],
   "source": [
    "np.savetxt(\"Z9_new.csv\", z8, delimiter=\",\")"
   ]
  },
  {
   "cell_type": "code",
   "execution_count": 120,
   "metadata": {},
   "outputs": [
    {
     "data": {
      "text/plain": [
       "-193.1898217206"
      ]
     },
     "execution_count": 120,
     "metadata": {},
     "output_type": "execute_result"
    }
   ],
   "source": [
    "z8[75,166]"
   ]
  },
  {
   "cell_type": "code",
   "execution_count": 88,
   "metadata": {},
   "outputs": [
    {
     "data": {
      "text/plain": [
       "-223.4734824455"
      ]
     },
     "execution_count": 88,
     "metadata": {},
     "output_type": "execute_result"
    }
   ],
   "source": [
    "z8[148,204]"
   ]
  },
  {
   "cell_type": "code",
   "execution_count": 117,
   "metadata": {},
   "outputs": [
    {
     "data": {
      "text/plain": [
       "-202.4418814766"
      ]
     },
     "execution_count": 117,
     "metadata": {},
     "output_type": "execute_result"
    }
   ],
   "source": [
    "z8[204,148]"
   ]
  },
  {
   "cell_type": "code",
   "execution_count": 113,
   "metadata": {},
   "outputs": [
    {
     "data": {
      "text/plain": [
       "-193.1898217206"
      ]
     },
     "execution_count": 113,
     "metadata": {},
     "output_type": "execute_result"
    }
   ],
   "source": [
    "z8[75,166]"
   ]
  },
  {
   "cell_type": "code",
   "execution_count": 90,
   "metadata": {},
   "outputs": [
    {
     "data": {
      "text/plain": [
       "-185.6282969811"
      ]
     },
     "execution_count": 90,
     "metadata": {},
     "output_type": "execute_result"
    }
   ],
   "source": [
    "z8[166,74]"
   ]
  },
  {
   "cell_type": "code",
   "execution_count": 118,
   "metadata": {},
   "outputs": [
    {
     "data": {
      "text/plain": [
       "-260.2203479718"
      ]
     },
     "execution_count": 118,
     "metadata": {},
     "output_type": "execute_result"
    }
   ],
   "source": [
    "z9[74,166]"
   ]
  },
  {
   "cell_type": "code",
   "execution_count": 125,
   "metadata": {},
   "outputs": [],
   "source": [
    "z = pd.read_csv(r'/Users/ZhengLi/SMU_OneDrive/OneDrive - Southern Methodist University/SMU/Z8_new.csv',header=None).values"
   ]
  },
  {
   "cell_type": "code",
   "execution_count": 127,
   "metadata": {},
   "outputs": [
    {
     "data": {
      "text/plain": [
       "array([[-228.23649144, -226.38961958, -212.39802093, -184.30468021],\n",
       "       [-227.94819645, -220.59970001, -198.58309715, -164.73134752],\n",
       "       [-223.77842956, -215.73010122, -193.18982172, -164.86727732],\n",
       "       [-220.46360569, -218.45383452, -202.99371043, -182.35370506]])"
      ]
     },
     "execution_count": 127,
     "metadata": {},
     "output_type": "execute_result"
    }
   ],
   "source": [
    "z[73:77,164:168]"
   ]
  },
  {
   "cell_type": "code",
   "execution_count": 128,
   "metadata": {},
   "outputs": [
    {
     "data": {
      "text/plain": [
       "array([[-198.40942209, -198.18845008, -176.47788908, -166.01943764],\n",
       "       [-201.17848934, -187.46243071, -156.23213424, -140.84736205],\n",
       "       [-205.99233226, -185.62829698, -156.28123195, -145.68792403],\n",
       "       [-212.2941257 , -193.87599865, -180.95359436, -175.11779725]])"
      ]
     },
     "execution_count": 128,
     "metadata": {},
     "output_type": "execute_result"
    }
   ],
   "source": [
    "z[164:168,73:77]"
   ]
  },
  {
   "cell_type": "code",
   "execution_count": 129,
   "metadata": {},
   "outputs": [
    {
     "data": {
      "text/plain": [
       "-217.9473423104"
      ]
     },
     "execution_count": 129,
     "metadata": {},
     "output_type": "execute_result"
    }
   ],
   "source": [
    "z[149,204]"
   ]
  },
  {
   "cell_type": "code",
   "execution_count": 131,
   "metadata": {},
   "outputs": [
    {
     "data": {
      "text/plain": [
       "-223.4734824455"
      ]
     },
     "execution_count": 131,
     "metadata": {},
     "output_type": "execute_result"
    }
   ],
   "source": [
    "z[148,204]"
   ]
  },
  {
   "cell_type": "code",
   "execution_count": 130,
   "metadata": {},
   "outputs": [
    {
     "data": {
      "text/plain": [
       "-211.8258345207"
      ]
     },
     "execution_count": 130,
     "metadata": {},
     "output_type": "execute_result"
    }
   ],
   "source": [
    "z[204,149]"
   ]
  },
  {
   "cell_type": "code",
   "execution_count": null,
   "metadata": {},
   "outputs": [],
   "source": []
  }
 ],
 "metadata": {
  "kernelspec": {
   "display_name": "Python 3",
   "language": "python",
   "name": "python3"
  },
  "language_info": {
   "codemirror_mode": {
    "name": "ipython",
    "version": 3
   },
   "file_extension": ".py",
   "mimetype": "text/x-python",
   "name": "python",
   "nbconvert_exporter": "python",
   "pygments_lexer": "ipython3",
   "version": "3.5.5"
  }
 },
 "nbformat": 4,
 "nbformat_minor": 2
}
